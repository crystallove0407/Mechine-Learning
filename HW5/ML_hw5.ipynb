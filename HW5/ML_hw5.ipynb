{
 "cells": [
  {
   "cell_type": "code",
   "execution_count": 2,
   "metadata": {},
   "outputs": [],
   "source": [
    "import numpy as np\n",
    "from matplotlib import pyplot as plt\n",
    "import libsvm.python.svm as svm\n",
    "import libsvm.python.svmutil as svmutil\n",
    "import pandas as pd"
   ]
  },
  {
   "cell_type": "code",
   "execution_count": 3,
   "metadata": {},
   "outputs": [],
   "source": [
    "X_train = np.genfromtxt('X_train.csv', delimiter=',') #5000*784\n",
    "Y_train = np.genfromtxt('Y_train.csv', delimiter=',') #5000\n",
    "X_test = np.genfromtxt('X_test.csv', delimiter=',') #2500*784\n",
    "Y_test = np.genfromtxt('Y_test.csv', delimiter=',') #2500"
   ]
  },
  {
   "cell_type": "code",
   "execution_count": 4,
   "metadata": {},
   "outputs": [],
   "source": [
    "def sparse_matrix(x, iskernel=False):\n",
    "    row, col = x.shape\n",
    "    idx_offset = 1\n",
    "    if (iskernel):\n",
    "        x = np.hstack((np.linspace(1,row,row).reshape(-1, 1), x))\n",
    "        idx_offset = 0\n",
    "        \n",
    "    x = [{idx+idx_offset:x[i][idx] \\\n",
    "        for _,idx in np.ndenumerate(np.argwhere(x[i]!=0))} \\\n",
    "        for i in range(row)]\n",
    "    return x"
   ]
  },
  {
   "cell_type": "code",
   "execution_count": 5,
   "metadata": {},
   "outputs": [],
   "source": [
    "x_train = sparse_matrix(X_train)\n",
    "y_train = list(Y_train)\n",
    "\n",
    "x_test = sparse_matrix(X_test)\n",
    "y_test = list(Y_test)"
   ]
  },
  {
   "cell_type": "code",
   "execution_count": 57,
   "metadata": {
    "scrolled": true
   },
   "outputs": [],
   "source": [
    "prob = svmutil.svm_problem(y_train, x_train)"
   ]
  },
  {
   "cell_type": "code",
   "execution_count": 6,
   "metadata": {},
   "outputs": [],
   "source": [
    "def GridSearchForSVM(kernel, parameter_matrix, problem, n_ford=10):\n",
    "    opts = list(parameter_matrix.keys())\n",
    "    opts_max = np.array([len(parameter_matrix[opts[i]]) for i in range(len(opts))])\n",
    "\n",
    "    current_opt = np.array([0 for i in range(len(opts))])\n",
    "    results = [];\n",
    "    \n",
    "    optstr_init = '-t {:d} -v {:d} '.format(int(kernel),int(n_ford))\n",
    "    \n",
    "    overflow = False\n",
    "    while(True):\n",
    "        print(np.count_nonzero(current_opt >= opts_max))\n",
    "        while (np.count_nonzero(current_opt >= opts_max)):\n",
    "            reset_indicator = np.argwhere(current_opt >= opts_max)\n",
    "            current_opt[reset_indicator[-1]] -= opts_max[reset_indicator[-1]] \n",
    "            if (reset_indicator[-1] == 0):\n",
    "                overflow = True\n",
    "                break;\n",
    "            current_opt[reset_indicator[-1]-1] += 1\n",
    "        \n",
    "        if (overflow):\n",
    "            break\n",
    "        \n",
    "        # gen option string\n",
    "        optstr = optstr_init\n",
    "        result = []\n",
    "        for idx,para in enumerate(current_opt):\n",
    "            optkey = opts[idx]\n",
    "            optstr += '-' + str(optkey) + ' ' + str(parameter_matrix[optkey][para]) + ' '\n",
    "            result.append(parameter_matrix[optkey][para])\n",
    "        \n",
    "        # get cross-validation result\n",
    "        result.append(optstr)\n",
    "        result.append(svmutil.svm_train(problem, optstr))\n",
    "        results.append(result)\n",
    "        \n",
    "        # try next options\n",
    "        current_opt[-1] += 1\n",
    "    \n",
    "    opts += ['opt str', 'result']\n",
    "    return results, opts"
   ]
  },
  {
   "cell_type": "code",
   "execution_count": null,
   "metadata": {
    "scrolled": true
   },
   "outputs": [
    {
     "name": "stdout",
     "output_type": "stream",
     "text": [
      "0\n"
     ]
    }
   ],
   "source": [
    "%%time\n",
    "linear_results, linear_options = GridSearchForSVM(0, {'c' : [10**-5,10**-2,1,10**2,10**5]}, prob)\n",
    "poly_results, poly_options = GridSearchForSVM(1, {'c' : [10**-2,1,10**2],'g' : [1/100,1/300,1/784], 'r' : [0,1],'d' : [2,3,4,10]}, prob)\n",
    "rbf_results, rbf_options = GridSearchForSVM(2, {'c' : [10**-5,10**-2,1,10**2,10**5],'g' : [1,1/50,1/100,1/300,1/784]}, prob)"
   ]
  },
  {
   "cell_type": "code",
   "execution_count": 7,
   "metadata": {
    "scrolled": true
   },
   "outputs": [],
   "source": [
    "def dot_square(x):\n",
    "    return np.dot(x, x)\n",
    "\n",
    "def linear_RBF_kernel(u, v, gamma=0.01):\n",
    "    design_x = u.dot(v.T)\n",
    "    rbf_design_x = [[dot_square(u_i-v_i)*(-gamma) for v_i in v] for u_i in u]\n",
    "    rbf_design_x = np.exp(rbf_design_x)\n",
    "    #design_x = design_x + rbf_design_x\n",
    "    design_x = rbf_design_x\n",
    "    return design_x\n",
    "\n",
    "def linear_RBF_kernel_2(u, v, gamma=0.01):\n",
    "    design_x = np.matmul(u, v.T)\n",
    "    rbf_design_x =  np.sum(u**2, axis=1)[:,None] \\\n",
    "                    + np.sum(v**2, axis=1)[None,:] \\\n",
    "                    - 2*design_x\n",
    "    rbf_design_x = np.abs(rbf_design_x) * -gamma\n",
    "    rbf_design_x = np.exp(rbf_design_x)\n",
    "    design_x = design_x + rbf_design_x\n",
    "    #design_x = rbf_design_x\n",
    "    return design_x"
   ]
  },
  {
   "cell_type": "code",
   "execution_count": null,
   "metadata": {},
   "outputs": [],
   "source": []
  }
 ],
 "metadata": {
  "kernelspec": {
   "display_name": "Python 3",
   "language": "python",
   "name": "python3"
  },
  "language_info": {
   "codemirror_mode": {
    "name": "ipython",
    "version": 3
   },
   "file_extension": ".py",
   "mimetype": "text/x-python",
   "name": "python",
   "nbconvert_exporter": "python",
   "pygments_lexer": "ipython3",
   "version": "3.7.3"
  }
 },
 "nbformat": 4,
 "nbformat_minor": 2
}
