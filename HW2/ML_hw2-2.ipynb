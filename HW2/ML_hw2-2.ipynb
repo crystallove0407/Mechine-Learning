{
 "cells": [
  {
   "cell_type": "code",
   "execution_count": 1,
   "metadata": {},
   "outputs": [],
   "source": [
    "import numpy as np\n",
    "from math import factorial"
   ]
  },
  {
   "cell_type": "code",
   "execution_count": 2,
   "metadata": {},
   "outputs": [],
   "source": [
    "def read(file):\n",
    "    datas = []\n",
    "    with open(file, 'r') as f:\n",
    "        for line in f:\n",
    "            line = line.strip()\n",
    "            datas.append(np.array(line))\n",
    "    return datas\n",
    "\n",
    "def Beta(a,b):\n",
    "    return (Gamma(a) * Gamma(b)) / Gamma(a + b)\n",
    "\n",
    "def Gamma(x):\n",
    "    return factorial(x - 1)\n",
    "\n",
    "def Likelihood(p, m, N):\n",
    "    return (factorial(N)/(factorial(m)*factorial(N-m))) * (p**m) * ((1-p)**(N-m)) "
   ]
  },
  {
   "cell_type": "code",
   "execution_count": 3,
   "metadata": {},
   "outputs": [
    {
     "name": "stdout",
     "output_type": "stream",
     "text": [
      "file name:testfile.txt\n",
      "beta_a:0\n",
      "beta_b:0\n"
     ]
    }
   ],
   "source": [
    "datas = read(input(\"file name:\"))\n",
    "beta_a = int(input(\"beta_a:\"))\n",
    "beta_b = int(input(\"beta_b:\"))"
   ]
  },
  {
   "cell_type": "code",
   "execution_count": 4,
   "metadata": {},
   "outputs": [
    {
     "name": "stdout",
     "output_type": "stream",
     "text": [
      "case 1: 0101010101001011010101\n",
      "Likelihood: 0.16818809509277344\n",
      "Beta prior:     a = 0   b = 0   \n",
      "Beta posterior: a = 11  b = 11  \n",
      "\n",
      "case 2: 0110101\n",
      "Likelihood: 0.29375515303997485\n",
      "Beta prior:     a = 11  b = 11  \n",
      "Beta posterior: a = 15  b = 14  \n",
      "\n",
      "case 3: 010110101101\n",
      "Likelihood: 0.2286054241794335\n",
      "Beta prior:     a = 15  b = 14  \n",
      "Beta posterior: a = 22  b = 19  \n",
      "\n",
      "case 4: 0101101011101011010\n",
      "Likelihood: 0.18286870706509092\n",
      "Beta prior:     a = 22  b = 19  \n",
      "Beta posterior: a = 33  b = 27  \n",
      "\n",
      "case 5: 111101100011110\n",
      "Likelihood: 0.2143070548857833\n",
      "Beta prior:     a = 33  b = 27  \n",
      "Beta posterior: a = 43  b = 32  \n",
      "\n",
      "case 6: 101110111000110\n",
      "Likelihood: 0.20659760529408\n",
      "Beta prior:     a = 43  b = 32  \n",
      "Beta posterior: a = 52  b = 38  \n",
      "\n",
      "case 7: 1010010111\n",
      "Likelihood: 0.25082265600000003\n",
      "Beta prior:     a = 52  b = 38  \n",
      "Beta posterior: a = 58  b = 42  \n",
      "\n",
      "case 8: 11101110110\n",
      "Likelihood: 0.2619678932864457\n",
      "Beta prior:     a = 58  b = 42  \n",
      "Beta posterior: a = 66  b = 45  \n",
      "\n",
      "case 9: 01000111101\n",
      "Likelihood: 0.23609128871506807\n",
      "Beta prior:     a = 66  b = 45  \n",
      "Beta posterior: a = 72  b = 50  \n",
      "\n",
      "case 10: 110100111\n",
      "Likelihood: 0.27312909617436365\n",
      "Beta prior:     a = 72  b = 50  \n",
      "Beta posterior: a = 78  b = 53  \n",
      "\n",
      "case 11: 01101010111\n",
      "Likelihood: 0.24384881449471862\n",
      "Beta prior:     a = 78  b = 53  \n",
      "Beta posterior: a = 85  b = 57  \n",
      "\n"
     ]
    }
   ],
   "source": [
    "beta_a = 0\n",
    "beta_b = 0\n",
    "\n",
    "count0 = np.char.count(datas, '0')\n",
    "count1 = np.char.count(datas, '1')\n",
    "\n",
    "for idx, (c0, c1) in enumerate(zip(count0, count1)):\n",
    "    prior_a = beta_a\n",
    "    prior_b = beta_b\n",
    "    beta_a += c1\n",
    "    beta_b += c0\n",
    "    likelihood = Likelihood(c1/(c0+c1) , c1, c0+c1)\n",
    "    \n",
    "    print(\"case {}: {}\".format(idx+1, datas[idx]))\n",
    "    print(\"Likelihood: {}\".format(likelihood))\n",
    "    print(\"Beta prior:     a = {:<4d}b = {:<4d}\".format(prior_a, prior_b))\n",
    "    print(\"Beta posterior: a = {:<4d}b = {:<4d}\\n\".format(beta_a, beta_b))\n"
   ]
  },
  {
   "cell_type": "code",
   "execution_count": null,
   "metadata": {},
   "outputs": [],
   "source": []
  }
 ],
 "metadata": {
  "kernelspec": {
   "display_name": "Python 3",
   "language": "python",
   "name": "python3"
  },
  "language_info": {
   "codemirror_mode": {
    "name": "ipython",
    "version": 3
   },
   "file_extension": ".py",
   "mimetype": "text/x-python",
   "name": "python",
   "nbconvert_exporter": "python",
   "pygments_lexer": "ipython3",
   "version": "3.7.1"
  }
 },
 "nbformat": 4,
 "nbformat_minor": 2
}
